{
  "nbformat": 4,
  "nbformat_minor": 0,
  "metadata": {
    "colab": {
      "name": "Inception_test.ipynb",
      "version": "0.3.2",
      "provenance": []
    },
    "kernelspec": {
      "name": "python3",
      "display_name": "Python 3"
    },
    "accelerator": "GPU"
  },
  "cells": [
    {
      "cell_type": "markdown",
      "metadata": {
        "id": "view-in-github",
        "colab_type": "text"
      },
      "source": [
        "[View in Colaboratory](https://colab.research.google.com/github/ah27182/machine_learning/blob/master/Inception_test.ipynb)"
      ]
    },
    {
      "metadata": {
        "id": "Va3qpe4Znt-Q",
        "colab_type": "code",
        "colab": {
          "base_uri": "https://localhost:8080/",
          "height": 127
        },
        "outputId": "a8980f41-c7dc-4f34-fcb5-4d9198bb78c6"
      },
      "cell_type": "code",
      "source": [
        "!git clone https://github.com/tensorflow/models"
      ],
      "execution_count": 1,
      "outputs": [
        {
          "output_type": "stream",
          "text": [
            "Cloning into 'models'...\n",
            "remote: Counting objects: 17782, done.\u001b[K\n",
            "remote: Compressing objects: 100% (45/45), done.\u001b[K\n",
            "remote: Total 17782 (delta 16), reused 10 (delta 9), pack-reused 17728\u001b[K\n",
            "Receiving objects: 100% (17782/17782), 470.27 MiB | 34.56 MiB/s, done.\n",
            "Resolving deltas: 100% (10520/10520), done.\n"
          ],
          "name": "stdout"
        }
      ]
    },
    {
      "metadata": {
        "id": "IwAER1Mln2db",
        "colab_type": "code",
        "colab": {
          "base_uri": "https://localhost:8080/",
          "height": 368
        },
        "outputId": "d3f99085-80a8-4b94-eea7-67590a73b719"
      },
      "cell_type": "code",
      "source": [
        "!python models/tutorials/image/imagenet/classify_image.py --image_file Turkey-Display.jpg"
      ],
      "execution_count": 21,
      "outputs": [
        {
          "output_type": "stream",
          "text": [
            "/usr/local/lib/python3.6/dist-packages/h5py/__init__.py:36: FutureWarning: Conversion of the second argument of issubdtype from `float` to `np.floating` is deprecated. In future, it will be treated as `np.float64 == np.dtype(float).type`.\r\n",
            "  from ._conv import register_converters as _register_converters\n",
            "2018-06-12 20:25:22.593117: W tensorflow/core/framework/op_def_util.cc:346] Op BatchNormWithGlobalNormalization is deprecated. It will cease to work in GraphDef version 9. Use tf.nn.batch_normalization().\n",
            "2018-06-12 20:25:22.891036: I tensorflow/stream_executor/cuda/cuda_gpu_executor.cc:898] successful NUMA node read from SysFS had negative value (-1), but there must be at least one NUMA node, so returning NUMA node zero\n",
            "2018-06-12 20:25:22.891580: I tensorflow/core/common_runtime/gpu/gpu_device.cc:1356] Found device 0 with properties: \n",
            "name: Tesla K80 major: 3 minor: 7 memoryClockRate(GHz): 0.8235\n",
            "pciBusID: 0000:00:04.0\n",
            "totalMemory: 11.17GiB freeMemory: 11.10GiB\n",
            "2018-06-12 20:25:22.891622: I tensorflow/core/common_runtime/gpu/gpu_device.cc:1435] Adding visible gpu devices: 0\n",
            "2018-06-12 20:25:23.137764: I tensorflow/core/common_runtime/gpu/gpu_device.cc:923] Device interconnect StreamExecutor with strength 1 edge matrix:\n",
            "2018-06-12 20:25:23.137825: I tensorflow/core/common_runtime/gpu/gpu_device.cc:929]      0 \n",
            "2018-06-12 20:25:23.137852: I tensorflow/core/common_runtime/gpu/gpu_device.cc:942] 0:   N \n",
            "2018-06-12 20:25:23.138259: I tensorflow/core/common_runtime/gpu/gpu_device.cc:1053] Created TensorFlow device (/job:localhost/replica:0/task:0/device:GPU:0 with 10765 MB memory) -> physical GPU (device: 0, name: Tesla K80, pci bus id: 0000:00:04.0, compute capability: 3.7)\n",
            "hen (score = 0.43168)\n",
            "black grouse (score = 0.11813)\n",
            "vulture (score = 0.06784)\n",
            "ruffed grouse, partridge, Bonasa umbellus (score = 0.04385)\n",
            "prairie chicken, prairie grouse, prairie fowl (score = 0.03440)\n"
          ],
          "name": "stdout"
        }
      ]
    },
    {
      "metadata": {
        "id": "ZmMD2WAXoAP4",
        "colab_type": "code",
        "colab": {
          "base_uri": "https://localhost:8080/",
          "height": 329
        },
        "outputId": "073fdfb3-88db-42b4-b343-1b0690fd2f49"
      },
      "cell_type": "code",
      "source": [
        "!wget https://2o7fsh4anuayrnrhe3us6v71-wpengine.netdna-ssl.com/wp-content/uploads/2017/11/Turkey-Display.jpg turkey.jpg"
      ],
      "execution_count": 20,
      "outputs": [
        {
          "output_type": "stream",
          "text": [
            "--2018-06-12 20:25:04--  https://2o7fsh4anuayrnrhe3us6v71-wpengine.netdna-ssl.com/wp-content/uploads/2017/11/Turkey-Display.jpg\r\n",
            "Resolving 2o7fsh4anuayrnrhe3us6v71-wpengine.netdna-ssl.com (2o7fsh4anuayrnrhe3us6v71-wpengine.netdna-ssl.com)... 94.31.29.96\r\n",
            "Connecting to 2o7fsh4anuayrnrhe3us6v71-wpengine.netdna-ssl.com (2o7fsh4anuayrnrhe3us6v71-wpengine.netdna-ssl.com)|94.31.29.96|:443... connected.\n",
            "HTTP request sent, awaiting response... 200 OK\n",
            "Length: 6799212 (6.5M) [image/jpeg]\n",
            "Saving to: ‘Turkey-Display.jpg’\n",
            "\n",
            "Turkey-Display.jpg  100%[===================>]   6.48M  29.9MB/s    in 0.2s    \n",
            "\n",
            "2018-06-12 20:25:04 (29.9 MB/s) - ‘Turkey-Display.jpg’ saved [6799212/6799212]\n",
            "\n",
            "--2018-06-12 20:25:04--  http://turkey.jpg/\n",
            "Resolving turkey.jpg (turkey.jpg)... failed: Name or service not known.\n",
            "wget: unable to resolve host address ‘turkey.jpg’\n",
            "FINISHED --2018-06-12 20:25:04--\n",
            "Total wall clock time: 0.6s\n",
            "Downloaded: 1 files, 6.5M in 0.2s (29.9 MB/s)\n"
          ],
          "name": "stdout"
        }
      ]
    },
    {
      "metadata": {
        "id": "k4O19CxWomYr",
        "colab_type": "code",
        "colab": {}
      },
      "cell_type": "code",
      "source": [
        ""
      ],
      "execution_count": 0,
      "outputs": []
    }
  ]
}